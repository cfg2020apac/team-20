{
 "cells": [
  {
   "cell_type": "code",
   "execution_count": 81,
   "metadata": {},
   "outputs": [],
   "source": [
    "import pandas as pd\n",
    "import numpy as np\n",
    "import difflib"
   ]
  },
  {
   "cell_type": "code",
   "execution_count": 94,
   "metadata": {},
   "outputs": [
    {
     "name": "stdout",
     "output_type": "stream",
     "text": [
      "20\n"
     ]
    }
   ],
   "source": [
    "## Construct category list\n",
    "#program_f = pd.read_csv('handson_data/handson_program.csv')\n",
    "cats = ['Assistance and Support for Elderly',\n",
    "        'Disaster & Emergency Services',\n",
    "        'Education and Empowerment for Children and Youth',\n",
    "        'Empowerment and Support for Domestic and Migrant Workers', \n",
    "        'Environmental Conservation',\n",
    "        'Education and Empowerment for Refugees and Asylum Seekers',\n",
    "        'Health and Wellness',\n",
    "        'Hunger & Homelessness', \n",
    "        'Support for Homeless People',\n",
    "        'Adult Education',\n",
    "        'International Service',\n",
    "        'Internships & Employment',\n",
    "        'Justice & Legal Services',\n",
    "        'Refugee & Asylum Seekers Services',\n",
    "        'Schools',\n",
    "        'Sports & Recreation',\n",
    "        'Technology',\n",
    "        'Family Services',\n",
    "        'Arts & Culture',\n",
    "        'Civic & Community']\n",
    "print(len(cats))\n",
    "cats_abbr = ['interest_elderly','interest_disaster','interest_education_young',\n",
    "             'interest_worker','interest_environment','interest_education_refugee',\n",
    "             'interest_health','interest_hunger','interest_homeless',\n",
    "             'interest_education_adult','interest_international','interest_internship',\n",
    "             'interest_justice','interest_refugee','interest_school','interest_sports',\n",
    "             'interest_tech','interest_family','interest_arts','interest_civic']\n",
    "cats_dict = {cats_abbr[i]:cats[i] for i in range(len(cats))}"
   ]
  },
  {
   "cell_type": "code",
   "execution_count": 95,
   "metadata": {},
   "outputs": [
    {
     "data": {
      "text/plain": [
       "{'interest_elderly': 'Assistance and Support for Elderly',\n",
       " 'interest_disaster': 'Disaster & Emergency Services',\n",
       " 'interest_education_young': 'Education and Empowerment for Children and Youth',\n",
       " 'interest_worker': 'Empowerment and Support for Domestic and Migrant Workers',\n",
       " 'interest_environment': 'Environmental Conservation',\n",
       " 'interest_education_refugee': 'Education and Empowerment for Refugees and Asylum Seekers',\n",
       " 'interest_health': 'Health and Wellness',\n",
       " 'interest_hunger': 'Hunger & Homelessness',\n",
       " 'interest_homeless': 'Support for Homeless People',\n",
       " 'interest_education_adult': 'Adult Education',\n",
       " 'interest_international': 'International Service',\n",
       " 'interest_internship': 'Internships & Employment',\n",
       " 'interest_justice': 'Justice & Legal Services',\n",
       " 'interest_refugee': 'Refugee & Asylum Seekers Services',\n",
       " 'interest_school': 'Schools',\n",
       " 'interest_sports': 'Sports & Recreation',\n",
       " 'interest_tech': 'Technology',\n",
       " 'interest_family': 'Family Services',\n",
       " 'interest_arts': 'Arts & Culture',\n",
       " 'interest_civic': 'Civic & Community'}"
      ]
     },
     "execution_count": 95,
     "metadata": {},
     "output_type": "execute_result"
    }
   ],
   "source": [
    "cats_dict"
   ]
  },
  {
   "cell_type": "code",
   "execution_count": 40,
   "metadata": {},
   "outputs": [
    {
     "name": "stdout",
     "output_type": "stream",
     "text": [
      "20\n"
     ]
    }
   ],
   "source": [
    "## construct skill set\n",
    "skills = ['Accounting / finance',\n",
    "          'Administrative/general office support',\n",
    "          'Communications and marketing',\n",
    "          'Fundraising',\n",
    "          'Gardening',\n",
    "          'Graphic design',\n",
    "          'Health / medical',\n",
    "          'Event management',\n",
    "          'Human resources',\n",
    "          'IT',\n",
    "          'Legal',\n",
    "          'Photography',\n",
    "          'Project management',\n",
    "          'Teaching/Training/Fine arts',\n",
    "          'Teaching/Training/Fitness/sports',\n",
    "          'Teaching/Training/Music/drama',\n",
    "          'Teaching/Training/Health',\n",
    "          'Teaching/Training/IT',\n",
    "          'Translation',\n",
    "          'Videography']\n",
    "print(len(skills))"
   ]
  },
  {
   "cell_type": "code",
   "execution_count": 41,
   "metadata": {},
   "outputs": [],
   "source": [
    "## Construct feature map for user\n",
    "feature = ['gender_female','gender_male',\n",
    "           'employment_pt','employment_ft','employment_retired','employment_others',\n",
    "           'hours_served_total','hours_served_oppo','oppo_cat',\n",
    "           'interest_elderly','interest_disaster','interest_education_young',\n",
    "           'interest_worker','interest_environment','interest_education_refugee',\n",
    "           'interest_health','interest_hunger','interest_homeless',\n",
    "           'interest_education_adult','interest_international','interest_internship',\n",
    "           'interest_justice','interest_refugee','interest_school','interest_sports',\n",
    "           'interest_tech','interest_family','interest_arts','interest_civic']"
   ]
  },
  {
   "cell_type": "code",
   "execution_count": 42,
   "metadata": {},
   "outputs": [],
   "source": [
    "## Import user & program data\n",
    "user_f = pd.read_csv('handson_data/dummy_volunteer_profile.csv')\n",
    "program_f = pd.read_csv('handson_data/handson_program.csv')"
   ]
  },
  {
   "cell_type": "code",
   "execution_count": 54,
   "metadata": {},
   "outputs": [
    {
     "data": {
      "text/html": [
       "<div>\n",
       "<style scoped>\n",
       "    .dataframe tbody tr th:only-of-type {\n",
       "        vertical-align: middle;\n",
       "    }\n",
       "\n",
       "    .dataframe tbody tr th {\n",
       "        vertical-align: top;\n",
       "    }\n",
       "\n",
       "    .dataframe thead th {\n",
       "        text-align: right;\n",
       "    }\n",
       "</style>\n",
       "<table border=\"1\" class=\"dataframe\">\n",
       "  <thead>\n",
       "    <tr style=\"text-align: right;\">\n",
       "      <th></th>\n",
       "      <th>impact_area</th>\n",
       "      <th>opportunity_name</th>\n",
       "    </tr>\n",
       "  </thead>\n",
       "  <tbody>\n",
       "    <tr>\n",
       "      <th>0</th>\n",
       "      <td>Environmental Conservation</td>\n",
       "      <td>Serve-A-Thon: Soap Recycling 1:30 p.m. session...</td>\n",
       "    </tr>\n",
       "    <tr>\n",
       "      <th>2</th>\n",
       "      <td>Environmental Conservation</td>\n",
       "      <td>Serve-A-Thon: Soap Recycling 10 a.m. session (...</td>\n",
       "    </tr>\n",
       "    <tr>\n",
       "      <th>4</th>\n",
       "      <td>Hunger &amp; Homelessness</td>\n",
       "      <td>Serve-A-Thon: Deliver Daily Necessities to Hom...</td>\n",
       "    </tr>\n",
       "    <tr>\n",
       "      <th>6</th>\n",
       "      <td>Environmental Conservation</td>\n",
       "      <td>Serve-A-Thon: Help with sorting donated goods ...</td>\n",
       "    </tr>\n",
       "    <tr>\n",
       "      <th>13</th>\n",
       "      <td>Hunger &amp; Homelessness</td>\n",
       "      <td>Youth Opportunity: Collect Bread for Redistrib...</td>\n",
       "    </tr>\n",
       "    <tr>\n",
       "      <th>...</th>\n",
       "      <td>...</td>\n",
       "      <td>...</td>\n",
       "    </tr>\n",
       "    <tr>\n",
       "      <th>462</th>\n",
       "      <td>Hunger &amp; Homelessness</td>\n",
       "      <td>Youth Empowered Opportunity: Collect Bread for...</td>\n",
       "    </tr>\n",
       "    <tr>\n",
       "      <th>468</th>\n",
       "      <td>Education and Empowerment for Children and Youth</td>\n",
       "      <td>Youth Empowered Info Session: Providing suppor...</td>\n",
       "    </tr>\n",
       "    <tr>\n",
       "      <th>469</th>\n",
       "      <td>Environmental Conservation</td>\n",
       "      <td>Youth Empowered Opportunity: Info Session on R...</td>\n",
       "    </tr>\n",
       "    <tr>\n",
       "      <th>470</th>\n",
       "      <td>Education and Empowerment for Children and Youth</td>\n",
       "      <td>Youth Empowered Info Session: Be a 'Blind Budd...</td>\n",
       "    </tr>\n",
       "    <tr>\n",
       "      <th>472</th>\n",
       "      <td>Education and Empowerment for Children and Youth</td>\n",
       "      <td>Youth Empowered Info Session: Help a child wit...</td>\n",
       "    </tr>\n",
       "  </tbody>\n",
       "</table>\n",
       "<p>98 rows × 2 columns</p>\n",
       "</div>"
      ],
      "text/plain": [
       "                                           impact_area  \\\n",
       "0                          Environmental Conservation    \n",
       "2                          Environmental Conservation    \n",
       "4                               Hunger & Homelessness    \n",
       "6                          Environmental Conservation    \n",
       "13                              Hunger & Homelessness    \n",
       "..                                                 ...   \n",
       "462                             Hunger & Homelessness    \n",
       "468  Education and Empowerment for Children and Youth    \n",
       "469                        Environmental Conservation    \n",
       "470  Education and Empowerment for Children and Youth    \n",
       "472  Education and Empowerment for Children and Youth    \n",
       "\n",
       "                                      opportunity_name  \n",
       "0    Serve-A-Thon: Soap Recycling 1:30 p.m. session...  \n",
       "2    Serve-A-Thon: Soap Recycling 10 a.m. session (...  \n",
       "4    Serve-A-Thon: Deliver Daily Necessities to Hom...  \n",
       "6    Serve-A-Thon: Help with sorting donated goods ...  \n",
       "13   Youth Opportunity: Collect Bread for Redistrib...  \n",
       "..                                                 ...  \n",
       "462  Youth Empowered Opportunity: Collect Bread for...  \n",
       "468  Youth Empowered Info Session: Providing suppor...  \n",
       "469  Youth Empowered Opportunity: Info Session on R...  \n",
       "470  Youth Empowered Info Session: Be a 'Blind Budd...  \n",
       "472  Youth Empowered Info Session: Help a child wit...  \n",
       "\n",
       "[98 rows x 2 columns]"
      ]
     },
     "execution_count": 54,
     "metadata": {},
     "output_type": "execute_result"
    }
   ],
   "source": [
    "## Map between event name and cat\n",
    "program_cat_match = program_f[['impact_area','opportunity_name']]\n",
    "program_cat_match = program_cat_match.dropna(how='all')\n",
    "program_cat_match = program_cat_match.drop_duplicates()\n",
    "program_cat_match"
   ]
  },
  {
   "cell_type": "code",
   "execution_count": 61,
   "metadata": {},
   "outputs": [
    {
     "name": "stderr",
     "output_type": "stream",
     "text": [
      "<ipython-input-61-8fef1c2c1726>:2: UserWarning: DataFrame columns are not unique, some columns will be omitted.\n",
      "  program_cat_match_dict = program_cat_match.set_index('opportunity_name').T.to_dict('list')\n"
     ]
    }
   ],
   "source": [
    "## Turn map to dict\n",
    "program_cat_match_dict = program_cat_match.set_index('opportunity_name').T.to_dict('list')"
   ]
  },
  {
   "cell_type": "code",
   "execution_count": 72,
   "metadata": {},
   "outputs": [],
   "source": [
    "## Construct feature matrix from user data\n",
    "user_matrix_id = user_f.connection_id\n",
    "user_matrix_gender_female = [user_f.gender == 'Female']\n",
    "user_matrix_gender_male = [user_f.gender == 'Male']\n",
    "user_matrix_employment_pt = [user_f.employment_status == 'Part Time']\n",
    "user_matrix_employment_ft = [user_f.employment_status == 'Full Time']\n",
    "user_matrix_employment_retired = [user_f.employment_status == 'Retired']\n",
    "d = {'Other': True, 'Not Employed': True, 'Full Time': False, 'Part Time': False}\n",
    "user_matrix_employment_others = user_f.employment_status.map(d)\n",
    "user_matrix_employment_others = user_matrix_employment_others.fillna(True)\n",
    "user_matrix_hours_served_total = user_f.hours_served_all\n",
    "user_matrix_hours_served_oppo = user_f.hours_served_opportunity\n",
    "user_matrix_oppo_cat = user_f.opportunity_name.map(program_cat_match_dict)"
   ]
  },
  {
   "cell_type": "code",
   "execution_count": 99,
   "metadata": {},
   "outputs": [
    {
     "name": "stdout",
     "output_type": "stream",
     "text": [
      "0     False\n",
      "1     False\n",
      "2     False\n",
      "3     False\n",
      "4     False\n",
      "      ...  \n",
      "94     True\n",
      "95     True\n",
      "96     True\n",
      "97    False\n",
      "98    False\n",
      "Name: interest_list, Length: 99, dtype: bool\n"
     ]
    }
   ],
   "source": [
    "## Construct feature matrix from user interest\n",
    "for cat_abbr in cats_abbr:\n",
    "    tmp_pdseries = user_f.interest_list.str.contains(cats_dict[cat_abbr])\n",
    "    tmp_pdseries = tmp_pdseries.fillna(False)\n",
    "    vars()['user_matrix_'+cat_abbr] = tmp_pdseries"
   ]
  },
  {
   "cell_type": "code",
   "execution_count": null,
   "metadata": {},
   "outputs": [],
   "source": [
    "## Build ones for "
   ]
  },
  {
   "cell_type": "code",
   "execution_count": 86,
   "metadata": {},
   "outputs": [
    {
     "data": {
      "text/plain": [
       "True"
      ]
     },
     "execution_count": 86,
     "metadata": {},
     "output_type": "execute_result"
    }
   ],
   "source": [
    "user_matrix_oppo_cat.loc[98][0] in 'Hunger & Homelessness' or 'Hunger & Homelessness' in user_matrix_oppo_cat.loc[98][0]"
   ]
  }
 ],
 "metadata": {
  "kernelspec": {
   "display_name": "Python 3",
   "language": "python",
   "name": "python3"
  },
  "language_info": {
   "codemirror_mode": {
    "name": "ipython",
    "version": 3
   },
   "file_extension": ".py",
   "mimetype": "text/x-python",
   "name": "python",
   "nbconvert_exporter": "python",
   "pygments_lexer": "ipython3",
   "version": "3.8.5"
  }
 },
 "nbformat": 4,
 "nbformat_minor": 4
}
